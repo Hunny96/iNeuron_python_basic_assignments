{
 "cells": [
  {
   "cell_type": "markdown",
   "id": "b98380ad-36b2-40f8-9f86-b0398cf41da9",
   "metadata": {},
   "source": [
    "# Write a Python Program to Make a Simple Calculator with 4 basic mathematical operations?"
   ]
  },
  {
   "cell_type": "code",
   "execution_count": 4,
   "id": "21e06b3d-5a77-4b74-be99-42058a2d307c",
   "metadata": {},
   "outputs": [
    {
     "name": "stdin",
     "output_type": "stream",
     "text": [
      "Enter value of a:  52\n",
      "Enter value of b:  36\n",
      "Enter the operation from +,-,*,/:  *\n"
     ]
    },
    {
     "name": "stdout",
     "output_type": "stream",
     "text": [
      "Product of a and b is: 1872.0\n"
     ]
    }
   ],
   "source": [
    "a = float(input(\"Enter value of a: \"))\n",
    "b = float(input(\"Enter value of b: \"))\n",
    "operator = input(\"Enter the operation from +,-,*,/: \")\n",
    "\n",
    "if operator == \"+\":\n",
    "    print(f\"Sum of a and b is: {a+b}\")\n",
    "elif operator == \"-\":\n",
    "    print(f\"Difference of a and b is: {a-b}\")\n",
    "elif operator == \"*\":\n",
    "    print(f\"Product of a and b is: {a*b}\")\n",
    "elif operator == \"/\":\n",
    "    print(f\"Division of a and b is: {a/b}\")\n",
    "else:\n",
    "    print(\"Please enter the valid operator\")"
   ]
  },
  {
   "cell_type": "markdown",
   "id": "f71750dd-391a-490b-832c-c2fc090f93f6",
   "metadata": {},
   "source": [
    "# Write a Python Program To Find ASCII value of a character?"
   ]
  },
  {
   "cell_type": "code",
   "execution_count": 2,
   "id": "eecefd3a-c1f9-4ec5-ab13-eea1b0de7615",
   "metadata": {},
   "outputs": [
    {
     "name": "stdin",
     "output_type": "stream",
     "text": [
      "Enter a character:  F\n"
     ]
    },
    {
     "name": "stdout",
     "output_type": "stream",
     "text": [
      "The ASCII value of F is 70.\n"
     ]
    }
   ],
   "source": [
    "character = input(\"Enter a character: \")\n",
    "\n",
    "ascii_value = ord(character)\n",
    "\n",
    "print(f\"The ASCII value of {character} is {ascii_value}.\")\n"
   ]
  },
  {
   "cell_type": "markdown",
   "id": "9d4816eb-4819-4f29-bf1c-e85cb36f2ea9",
   "metadata": {},
   "source": [
    "# Write a Python Program to Convert Decimal to Binary, Octal and Hexadecimal?"
   ]
  },
  {
   "cell_type": "code",
   "execution_count": 4,
   "id": "e60ec236-fb4e-4d99-aa56-dc6c9ab1e3a1",
   "metadata": {},
   "outputs": [
    {
     "name": "stdin",
     "output_type": "stream",
     "text": [
      "Enter a decimal number:  3\n"
     ]
    },
    {
     "name": "stdout",
     "output_type": "stream",
     "text": [
      "The binary equivalent of 3 is 0b11\n",
      "The octal equivalent of 3 is 0o3\n",
      "The hexadecimal equivalent of 3 is 0x3\n"
     ]
    }
   ],
   "source": [
    "dec = int(input(\"Enter a decimal number: \"))\n",
    "\n",
    "\n",
    "binary = bin(dec)\n",
    "octal = oct(dec)\n",
    "hexadecimal = hex(dec)\n",
    "\n",
    "\n",
    "print(\"The binary equivalent of\", dec, \"is\", binary)\n",
    "print(\"The octal equivalent of\", dec, \"is\", octal)\n",
    "print(\"The hexadecimal equivalent of\", dec, \"is\", hexadecimal)\n"
   ]
  },
  {
   "cell_type": "markdown",
   "id": "91d49b79-a694-4cd9-8fc6-755002ca07b4",
   "metadata": {},
   "source": [
    "# Write a Python Program to Find HCF?"
   ]
  },
  {
   "cell_type": "code",
   "execution_count": 7,
   "id": "fb559880-c48f-4954-9511-a6bac753465d",
   "metadata": {},
   "outputs": [
    {
     "name": "stdin",
     "output_type": "stream",
     "text": [
      "Enter first number:  12\n",
      "Enter second number:  6\n"
     ]
    },
    {
     "name": "stdout",
     "output_type": "stream",
     "text": [
      "The HCF of 12 and 6 is 6\n"
     ]
    }
   ],
   "source": [
    "num1 = int(input(\"Enter first number: \"))\n",
    "num2 = int(input(\"Enter second number: \"))\n",
    "\n",
    "smaller = min(num1, num2)\n",
    "\n",
    "hcf = 1\n",
    "\n",
    "for i in range(1, smaller+1):\n",
    "   \n",
    "    if num1%i == 0 and num2%i == 0:\n",
    "        \n",
    "        hcf = i\n",
    "\n",
    "print(\"The HCF of\", num1, \"and\", num2, \"is\", hcf)"
   ]
  },
  {
   "cell_type": "markdown",
   "id": "4481e3c2-f811-42f5-9cc7-baff030a9e57",
   "metadata": {},
   "source": [
    "# Write a Python Program to Find LCM?"
   ]
  },
  {
   "cell_type": "code",
   "execution_count": 9,
   "id": "2ef9a46e-757e-4ca0-a537-3c4edbfc9921",
   "metadata": {},
   "outputs": [
    {
     "name": "stdin",
     "output_type": "stream",
     "text": [
      "Enter first number:  56\n",
      "Enter second number:  36\n"
     ]
    },
    {
     "name": "stdout",
     "output_type": "stream",
     "text": [
      "The LCM of 56 and 36 is 504\n"
     ]
    }
   ],
   "source": [
    "num1 = int(input(\"Enter first number: \"))\n",
    "num2 = int(input(\"Enter second number: \"))\n",
    "\n",
    "greater = max(num1, num2)\n",
    "\n",
    "lcm = greater\n",
    "\n",
    "for i in range(1, num1*num2 + 1):\n",
    "    if i % num1 == 0 and i % num2 == 0:\n",
    "        lcm = i\n",
    "        break\n",
    "\n",
    "print(\"The LCM of\", num1, \"and\", num2, \"is\", lcm)\n"
   ]
  },
  {
   "cell_type": "code",
   "execution_count": null,
   "id": "f033fb83-3b7b-4f37-97c0-3934b4a1201d",
   "metadata": {},
   "outputs": [],
   "source": []
  }
 ],
 "metadata": {
  "kernelspec": {
   "display_name": "Python 3 (ipykernel)",
   "language": "python",
   "name": "python3"
  },
  "language_info": {
   "codemirror_mode": {
    "name": "ipython",
    "version": 3
   },
   "file_extension": ".py",
   "mimetype": "text/x-python",
   "name": "python",
   "nbconvert_exporter": "python",
   "pygments_lexer": "ipython3",
   "version": "3.10.6"
  }
 },
 "nbformat": 4,
 "nbformat_minor": 5
}
